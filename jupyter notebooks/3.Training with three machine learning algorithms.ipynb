{
 "cells": [
  {
   "cell_type": "code",
   "execution_count": 1,
   "id": "31907f6b",
   "metadata": {},
   "outputs": [],
   "source": [
    "import numpy as np\n",
    "import matplotlib.pyplot as plt\n",
    "import pandas as pd"
   ]
  },
  {
   "cell_type": "code",
   "execution_count": 2,
   "id": "6b27ec7c",
   "metadata": {},
   "outputs": [],
   "source": [
    "dataset = pd.read_csv('C:\\\\Users\\\\HP\\\\Desktop\\\\4.sınıf Güz Dönemi\\\\Profesyonel Yazılım Geliştirme\\Profesyonel Yazılım Geliştirme 2\\\\arabam.com\\\\Dataset1-4k\\\\cars-fill-training.csv')"
   ]
  },
  {
   "cell_type": "code",
   "execution_count": 3,
   "id": "51abc43d",
   "metadata": {
    "scrolled": true
   },
   "outputs": [
    {
     "data": {
      "text/html": [
       "<div>\n",
       "<style scoped>\n",
       "    .dataframe tbody tr th:only-of-type {\n",
       "        vertical-align: middle;\n",
       "    }\n",
       "\n",
       "    .dataframe tbody tr th {\n",
       "        vertical-align: top;\n",
       "    }\n",
       "\n",
       "    .dataframe thead th {\n",
       "        text-align: right;\n",
       "    }\n",
       "</style>\n",
       "<table border=\"1\" class=\"dataframe\">\n",
       "  <thead>\n",
       "    <tr style=\"text-align: right;\">\n",
       "      <th></th>\n",
       "      <th>fuel</th>\n",
       "      <th>year</th>\n",
       "      <th>selling_price</th>\n",
       "      <th>km_driven</th>\n",
       "      <th>seller_type</th>\n",
       "      <th>transmission</th>\n",
       "      <th>owner</th>\n",
       "    </tr>\n",
       "  </thead>\n",
       "  <tbody>\n",
       "    <tr>\n",
       "      <th>0</th>\n",
       "      <td>1</td>\n",
       "      <td>2007</td>\n",
       "      <td>60000</td>\n",
       "      <td>70000</td>\n",
       "      <td>1</td>\n",
       "      <td>1</td>\n",
       "      <td>1</td>\n",
       "    </tr>\n",
       "    <tr>\n",
       "      <th>1</th>\n",
       "      <td>1</td>\n",
       "      <td>2007</td>\n",
       "      <td>135000</td>\n",
       "      <td>50000</td>\n",
       "      <td>1</td>\n",
       "      <td>1</td>\n",
       "      <td>1</td>\n",
       "    </tr>\n",
       "    <tr>\n",
       "      <th>2</th>\n",
       "      <td>0</td>\n",
       "      <td>2012</td>\n",
       "      <td>600000</td>\n",
       "      <td>100000</td>\n",
       "      <td>1</td>\n",
       "      <td>1</td>\n",
       "      <td>0</td>\n",
       "    </tr>\n",
       "    <tr>\n",
       "      <th>3</th>\n",
       "      <td>1</td>\n",
       "      <td>2017</td>\n",
       "      <td>250000</td>\n",
       "      <td>46000</td>\n",
       "      <td>1</td>\n",
       "      <td>1</td>\n",
       "      <td>1</td>\n",
       "    </tr>\n",
       "    <tr>\n",
       "      <th>4</th>\n",
       "      <td>0</td>\n",
       "      <td>2014</td>\n",
       "      <td>450000</td>\n",
       "      <td>141000</td>\n",
       "      <td>1</td>\n",
       "      <td>1</td>\n",
       "      <td>0</td>\n",
       "    </tr>\n",
       "  </tbody>\n",
       "</table>\n",
       "</div>"
      ],
      "text/plain": [
       "   fuel  year  selling_price  km_driven  seller_type  transmission  owner\n",
       "0     1  2007          60000      70000            1             1      1\n",
       "1     1  2007         135000      50000            1             1      1\n",
       "2     0  2012         600000     100000            1             1      0\n",
       "3     1  2017         250000      46000            1             1      1\n",
       "4     0  2014         450000     141000            1             1      0"
      ]
     },
     "execution_count": 3,
     "metadata": {},
     "output_type": "execute_result"
    }
   ],
   "source": [
    "dataset.head()"
   ]
  },
  {
   "cell_type": "code",
   "execution_count": 4,
   "id": "c778ff09",
   "metadata": {},
   "outputs": [],
   "source": [
    "#price kolonu dataFrame'in en sonuna eklendi\n",
    "price = dataset[\"selling_price\"]\n",
    "dataset.drop(\"selling_price\",axis=1, inplace=True)\n",
    "dataset[\"selling_price\"] = price"
   ]
  },
  {
   "cell_type": "code",
   "execution_count": 5,
   "id": "8cdfd8da",
   "metadata": {},
   "outputs": [
    {
     "data": {
      "text/html": [
       "<div>\n",
       "<style scoped>\n",
       "    .dataframe tbody tr th:only-of-type {\n",
       "        vertical-align: middle;\n",
       "    }\n",
       "\n",
       "    .dataframe tbody tr th {\n",
       "        vertical-align: top;\n",
       "    }\n",
       "\n",
       "    .dataframe thead th {\n",
       "        text-align: right;\n",
       "    }\n",
       "</style>\n",
       "<table border=\"1\" class=\"dataframe\">\n",
       "  <thead>\n",
       "    <tr style=\"text-align: right;\">\n",
       "      <th></th>\n",
       "      <th>fuel</th>\n",
       "      <th>year</th>\n",
       "      <th>km_driven</th>\n",
       "      <th>seller_type</th>\n",
       "      <th>transmission</th>\n",
       "      <th>owner</th>\n",
       "      <th>selling_price</th>\n",
       "    </tr>\n",
       "  </thead>\n",
       "  <tbody>\n",
       "    <tr>\n",
       "      <th>0</th>\n",
       "      <td>1</td>\n",
       "      <td>2007</td>\n",
       "      <td>70000</td>\n",
       "      <td>1</td>\n",
       "      <td>1</td>\n",
       "      <td>1</td>\n",
       "      <td>60000</td>\n",
       "    </tr>\n",
       "    <tr>\n",
       "      <th>1</th>\n",
       "      <td>1</td>\n",
       "      <td>2007</td>\n",
       "      <td>50000</td>\n",
       "      <td>1</td>\n",
       "      <td>1</td>\n",
       "      <td>1</td>\n",
       "      <td>135000</td>\n",
       "    </tr>\n",
       "    <tr>\n",
       "      <th>2</th>\n",
       "      <td>0</td>\n",
       "      <td>2012</td>\n",
       "      <td>100000</td>\n",
       "      <td>1</td>\n",
       "      <td>1</td>\n",
       "      <td>0</td>\n",
       "      <td>600000</td>\n",
       "    </tr>\n",
       "    <tr>\n",
       "      <th>3</th>\n",
       "      <td>1</td>\n",
       "      <td>2017</td>\n",
       "      <td>46000</td>\n",
       "      <td>1</td>\n",
       "      <td>1</td>\n",
       "      <td>1</td>\n",
       "      <td>250000</td>\n",
       "    </tr>\n",
       "    <tr>\n",
       "      <th>4</th>\n",
       "      <td>0</td>\n",
       "      <td>2014</td>\n",
       "      <td>141000</td>\n",
       "      <td>1</td>\n",
       "      <td>1</td>\n",
       "      <td>0</td>\n",
       "      <td>450000</td>\n",
       "    </tr>\n",
       "    <tr>\n",
       "      <th>...</th>\n",
       "      <td>...</td>\n",
       "      <td>...</td>\n",
       "      <td>...</td>\n",
       "      <td>...</td>\n",
       "      <td>...</td>\n",
       "      <td>...</td>\n",
       "      <td>...</td>\n",
       "    </tr>\n",
       "    <tr>\n",
       "      <th>4271</th>\n",
       "      <td>0</td>\n",
       "      <td>2014</td>\n",
       "      <td>80000</td>\n",
       "      <td>1</td>\n",
       "      <td>1</td>\n",
       "      <td>0</td>\n",
       "      <td>409999</td>\n",
       "    </tr>\n",
       "    <tr>\n",
       "      <th>4272</th>\n",
       "      <td>0</td>\n",
       "      <td>2014</td>\n",
       "      <td>80000</td>\n",
       "      <td>1</td>\n",
       "      <td>1</td>\n",
       "      <td>0</td>\n",
       "      <td>409999</td>\n",
       "    </tr>\n",
       "    <tr>\n",
       "      <th>4273</th>\n",
       "      <td>1</td>\n",
       "      <td>2009</td>\n",
       "      <td>83000</td>\n",
       "      <td>1</td>\n",
       "      <td>1</td>\n",
       "      <td>1</td>\n",
       "      <td>110000</td>\n",
       "    </tr>\n",
       "    <tr>\n",
       "      <th>4274</th>\n",
       "      <td>0</td>\n",
       "      <td>2016</td>\n",
       "      <td>90000</td>\n",
       "      <td>1</td>\n",
       "      <td>1</td>\n",
       "      <td>0</td>\n",
       "      <td>865000</td>\n",
       "    </tr>\n",
       "    <tr>\n",
       "      <th>4275</th>\n",
       "      <td>1</td>\n",
       "      <td>2016</td>\n",
       "      <td>40000</td>\n",
       "      <td>1</td>\n",
       "      <td>1</td>\n",
       "      <td>1</td>\n",
       "      <td>225000</td>\n",
       "    </tr>\n",
       "  </tbody>\n",
       "</table>\n",
       "<p>4276 rows × 7 columns</p>\n",
       "</div>"
      ],
      "text/plain": [
       "      fuel  year  km_driven  seller_type  transmission  owner  selling_price\n",
       "0        1  2007      70000            1             1      1          60000\n",
       "1        1  2007      50000            1             1      1         135000\n",
       "2        0  2012     100000            1             1      0         600000\n",
       "3        1  2017      46000            1             1      1         250000\n",
       "4        0  2014     141000            1             1      0         450000\n",
       "...    ...   ...        ...          ...           ...    ...            ...\n",
       "4271     0  2014      80000            1             1      0         409999\n",
       "4272     0  2014      80000            1             1      0         409999\n",
       "4273     1  2009      83000            1             1      1         110000\n",
       "4274     0  2016      90000            1             1      0         865000\n",
       "4275     1  2016      40000            1             1      1         225000\n",
       "\n",
       "[4276 rows x 7 columns]"
      ]
     },
     "execution_count": 5,
     "metadata": {},
     "output_type": "execute_result"
    }
   ],
   "source": [
    "dataset"
   ]
  },
  {
   "cell_type": "code",
   "execution_count": 6,
   "id": "5b92deb5",
   "metadata": {},
   "outputs": [],
   "source": [
    "X = dataset.iloc[:, 0:6].values\n",
    "y = dataset.iloc[:, 6].values\n",
    "y = y.reshape(-1, 1) "
   ]
  },
  {
   "cell_type": "code",
   "execution_count": 7,
   "id": "5d2638ae",
   "metadata": {},
   "outputs": [
    {
     "data": {
      "text/plain": [
       "array([[     1,   2007,  70000,      1,      1,      1],\n",
       "       [     1,   2007,  50000,      1,      1,      1],\n",
       "       [     0,   2012, 100000,      1,      1,      0],\n",
       "       ...,\n",
       "       [     1,   2009,  83000,      1,      1,      1],\n",
       "       [     0,   2016,  90000,      1,      1,      0],\n",
       "       [     1,   2016,  40000,      1,      1,      1]], dtype=int64)"
      ]
     },
     "execution_count": 7,
     "metadata": {},
     "output_type": "execute_result"
    }
   ],
   "source": [
    "X"
   ]
  },
  {
   "cell_type": "code",
   "execution_count": 8,
   "id": "7c8a564e",
   "metadata": {},
   "outputs": [
    {
     "data": {
      "text/plain": [
       "array([[ 60000],\n",
       "       [135000],\n",
       "       [600000],\n",
       "       ...,\n",
       "       [110000],\n",
       "       [865000],\n",
       "       [225000]], dtype=int64)"
      ]
     },
     "execution_count": 8,
     "metadata": {},
     "output_type": "execute_result"
    }
   ],
   "source": [
    "y"
   ]
  },
  {
   "cell_type": "code",
   "execution_count": 9,
   "id": "5ae9cf48",
   "metadata": {},
   "outputs": [],
   "source": [
    "from sklearn.model_selection import train_test_split\n",
    "X_train, X_test, y_train, y_test = train_test_split(X, y, test_size=0.25,random_state=0)"
   ]
  },
  {
   "cell_type": "code",
   "execution_count": 10,
   "id": "eca01380",
   "metadata": {},
   "outputs": [
    {
     "name": "stderr",
     "output_type": "stream",
     "text": [
      "C:\\ProgramData\\Anaconda3\\lib\\site-packages\\sklearn\\utils\\validation.py:993: DataConversionWarning: A column-vector y was passed when a 1d array was expected. Please change the shape of y to (n_samples, ), for example using ravel().\n",
      "  y = column_or_1d(y, warn=True)\n"
     ]
    },
    {
     "name": "stdout",
     "output_type": "stream",
     "text": [
      "Feature 0: 0.120709\n",
      "Feature 1: 0.397572\n",
      "Feature 2: 0.094996\n",
      "Feature 3: 0.153948\n",
      "Feature 4: 0.126186\n",
      "Feature 5: 0.097300\n"
     ]
    }
   ],
   "source": [
    "from sklearn.feature_selection import SelectKBest\n",
    "from sklearn.feature_selection import f_regression\n",
    "from sklearn.feature_selection import mutual_info_regression\n",
    "from sklearn.feature_selection import chi2\n",
    "\n",
    "\n",
    "# feature selection\n",
    "def select_features(X_train, y_train, X_test):\n",
    "    # configure to select all features\n",
    "    fs = SelectKBest(score_func=mutual_info_regression, k=3)\n",
    "    # learn relationship from training data\n",
    "    fs.fit(X_train, y_train)\n",
    "    # transform train input data\n",
    "    X_train_fs = fs.transform(X_train)\n",
    "    # transform test input data\n",
    "    X_test_fs = fs.transform(X_test)\n",
    "    return X_train_fs, X_test_fs, fs\n",
    "\n",
    "X_train_fs, X_test_fs, fs = select_features(X_train, y_train, X_test)\n",
    "# what are scores for the features\n",
    "for i in range(len(fs.scores_)):\n",
    "    print('Feature %d: %f' % (i, fs.scores_[i]))\n"
   ]
  },
  {
   "cell_type": "markdown",
   "id": "48bdad39",
   "metadata": {},
   "source": [
    "### Decision Tree Regressor"
   ]
  },
  {
   "cell_type": "code",
   "execution_count": 11,
   "id": "7abbfb7b",
   "metadata": {},
   "outputs": [],
   "source": [
    "from sklearn.tree import DecisionTreeRegressor\n",
    "regressorFS = DecisionTreeRegressor(random_state = 0)\n",
    "regressorFS.fit(X_train_fs, y_train)\n",
    "y_predDTfs = regressorFS.predict(X_test_fs)"
   ]
  },
  {
   "cell_type": "code",
   "execution_count": 12,
   "id": "657b4876",
   "metadata": {},
   "outputs": [],
   "source": [
    "from sklearn.metrics import r2_score\n",
    "DT_RSCOREfs = r2_score(y_test, y_predDTfs) "
   ]
  },
  {
   "cell_type": "code",
   "execution_count": 19,
   "id": "dae12842",
   "metadata": {},
   "outputs": [
    {
     "data": {
      "text/plain": [
       "0.48967586612717606"
      ]
     },
     "execution_count": 19,
     "metadata": {},
     "output_type": "execute_result"
    }
   ],
   "source": [
    "#DecisionTreeRegressor algoritması parametresiz çalıştırıldığında aldığı değer\n",
    "DT_RSCOREfs"
   ]
  },
  {
   "cell_type": "code",
   "execution_count": 20,
   "id": "ae304ccb",
   "metadata": {},
   "outputs": [],
   "source": [
    "from sklearn.tree import DecisionTreeRegressor\n",
    "regressor = DecisionTreeRegressor(criterion=\"absolute_error\", splitter=\"random\",min_samples_split=7,random_state = 0)\n",
    "regressor.fit(X_train, y_train)\n",
    "y_predDT = regressor.predict(X_test)"
   ]
  },
  {
   "cell_type": "code",
   "execution_count": 21,
   "id": "58a7a4c1",
   "metadata": {},
   "outputs": [],
   "source": [
    "from sklearn.metrics import r2_score\n",
    "DT_RSCORE = r2_score(y_test, y_predDT) "
   ]
  },
  {
   "cell_type": "code",
   "execution_count": 22,
   "id": "48dd7590",
   "metadata": {},
   "outputs": [
    {
     "name": "stdout",
     "output_type": "stream",
     "text": [
      "0.5344976085229363\n"
     ]
    }
   ],
   "source": [
    "#DecisionTreeRegressor algoritması için parameter tuning yapılması durumunda ulaşılan en yüksek başarım oranı\n",
    "print(DT_RSCORE)"
   ]
  },
  {
   "cell_type": "code",
   "execution_count": 23,
   "id": "dbf0f7c3",
   "metadata": {},
   "outputs": [
    {
     "data": {
      "text/plain": [
       "['../Models/cars_decision_tree_model.pkl']"
      ]
     },
     "execution_count": 23,
     "metadata": {},
     "output_type": "execute_result"
    }
   ],
   "source": [
    "import joblib\n",
    "joblib.dump(regressor, \"../Models/cars_decision_tree_model.pkl\")"
   ]
  },
  {
   "cell_type": "markdown",
   "id": "d97d389c",
   "metadata": {},
   "source": [
    "### Random Forest Regressor with RandomizedSearchCV"
   ]
  },
  {
   "cell_type": "code",
   "execution_count": 24,
   "id": "806d8ffd",
   "metadata": {},
   "outputs": [
    {
     "name": "stderr",
     "output_type": "stream",
     "text": [
      "C:\\Users\\HP\\AppData\\Local\\Temp\\ipykernel_13020\\1020849373.py:6: DataConversionWarning: A column-vector y was passed when a 1d array was expected. Please change the shape of y to (n_samples,), for example using ravel().\n",
      "  rf_base_model.fit(X_train,y_train)\n"
     ]
    },
    {
     "name": "stdout",
     "output_type": "stream",
     "text": [
      "rf base model r2_score= 0.5869644499169387\n"
     ]
    }
   ],
   "source": [
    "from sklearn.ensemble import RandomForestRegressor\n",
    "from sklearn.model_selection import GridSearchCV, RandomizedSearchCV\n",
    "from sklearn.metrics import r2_score\n",
    "\n",
    "rf_base_model = RandomForestRegressor()\n",
    "rf_base_model.fit(X_train,y_train)\n",
    "y_pred  = rf_base_model.predict(X_test)\n",
    "RF_RSCORE= r2_score(y_test,y_pred)\n",
    "print('rf base model r2_score= {}'.format(RF_RSCORE))"
   ]
  },
  {
   "cell_type": "code",
   "execution_count": 25,
   "id": "428390d0",
   "metadata": {
    "scrolled": false
   },
   "outputs": [
    {
     "name": "stdout",
     "output_type": "stream",
     "text": [
      "Fitting 5 folds for each of 200 candidates, totalling 1000 fits\n"
     ]
    },
    {
     "name": "stderr",
     "output_type": "stream",
     "text": [
      "C:\\ProgramData\\Anaconda3\\lib\\site-packages\\sklearn\\model_selection\\_validation.py:372: FitFailedWarning: \n",
      "280 fits failed out of a total of 1000.\n",
      "The score on these train-test partitions for these parameters will be set to nan.\n",
      "If these failures are not expected, you can try to debug them by setting error_score='raise'.\n",
      "\n",
      "Below are more details about the failures:\n",
      "--------------------------------------------------------------------------------\n",
      "280 fits failed with the following error:\n",
      "Traceback (most recent call last):\n",
      "  File \"C:\\ProgramData\\Anaconda3\\lib\\site-packages\\sklearn\\model_selection\\_validation.py\", line 680, in _fit_and_score\n",
      "    estimator.fit(X_train, y_train, **fit_params)\n",
      "  File \"C:\\ProgramData\\Anaconda3\\lib\\site-packages\\sklearn\\ensemble\\_forest.py\", line 450, in fit\n",
      "    trees = Parallel(\n",
      "  File \"C:\\ProgramData\\Anaconda3\\lib\\site-packages\\joblib\\parallel.py\", line 1043, in __call__\n",
      "    if self.dispatch_one_batch(iterator):\n",
      "  File \"C:\\ProgramData\\Anaconda3\\lib\\site-packages\\joblib\\parallel.py\", line 861, in dispatch_one_batch\n",
      "    self._dispatch(tasks)\n",
      "  File \"C:\\ProgramData\\Anaconda3\\lib\\site-packages\\joblib\\parallel.py\", line 779, in _dispatch\n",
      "    job = self._backend.apply_async(batch, callback=cb)\n",
      "  File \"C:\\ProgramData\\Anaconda3\\lib\\site-packages\\joblib\\_parallel_backends.py\", line 208, in apply_async\n",
      "    result = ImmediateResult(func)\n",
      "  File \"C:\\ProgramData\\Anaconda3\\lib\\site-packages\\joblib\\_parallel_backends.py\", line 572, in __init__\n",
      "    self.results = batch()\n",
      "  File \"C:\\ProgramData\\Anaconda3\\lib\\site-packages\\joblib\\parallel.py\", line 262, in __call__\n",
      "    return [func(*args, **kwargs)\n",
      "  File \"C:\\ProgramData\\Anaconda3\\lib\\site-packages\\joblib\\parallel.py\", line 262, in <listcomp>\n",
      "    return [func(*args, **kwargs)\n",
      "  File \"C:\\ProgramData\\Anaconda3\\lib\\site-packages\\sklearn\\utils\\fixes.py\", line 216, in __call__\n",
      "    return self.function(*args, **kwargs)\n",
      "  File \"C:\\ProgramData\\Anaconda3\\lib\\site-packages\\sklearn\\ensemble\\_forest.py\", line 185, in _parallel_build_trees\n",
      "    tree.fit(X, y, sample_weight=curr_sample_weight, check_input=False)\n",
      "  File \"C:\\ProgramData\\Anaconda3\\lib\\site-packages\\sklearn\\tree\\_classes.py\", line 1315, in fit\n",
      "    super().fit(\n",
      "  File \"C:\\ProgramData\\Anaconda3\\lib\\site-packages\\sklearn\\tree\\_classes.py\", line 250, in fit\n",
      "    raise ValueError(\n",
      "ValueError: min_samples_split must be an integer greater than 1 or a float in (0.0, 1.0]; got the integer 1\n",
      "\n",
      "  warnings.warn(some_fits_failed_message, FitFailedWarning)\n",
      "C:\\ProgramData\\Anaconda3\\lib\\site-packages\\sklearn\\model_selection\\_search.py:969: UserWarning: One or more of the test scores are non-finite: [0.6510179  0.64218553        nan 0.63132606        nan 0.62243525\n",
      "        nan 0.63161612 0.65819953 0.65240161 0.635558          nan\n",
      "        nan 0.65961383 0.64863544        nan 0.65295851 0.65931628\n",
      "        nan        nan        nan 0.63558584 0.64039672 0.64635521\n",
      " 0.66821641 0.65354872 0.63453453 0.55463486 0.63773755 0.61771771\n",
      " 0.62726744        nan        nan        nan 0.63947539 0.64145509\n",
      " 0.61790567        nan 0.66495786 0.64368075 0.65145889 0.64430452\n",
      " 0.66419538 0.57352381 0.65276334 0.54080749 0.63873436 0.62625841\n",
      " 0.65796676 0.64016849 0.57948231        nan 0.65333786        nan\n",
      " 0.666421          nan        nan        nan 0.64207994 0.58596524\n",
      " 0.63408132 0.63983299        nan 0.65134619 0.64259793 0.61630204\n",
      "        nan 0.6367801         nan 0.62526204 0.64138821        nan\n",
      " 0.66075132        nan 0.64284833 0.59493423 0.58891106 0.64103122\n",
      " 0.5545194  0.62481819 0.6412964  0.65453199 0.58472478 0.62734198\n",
      "        nan 0.56510248 0.61688022        nan 0.64644512 0.66847877\n",
      " 0.64787395 0.59561529 0.62666263 0.66399958 0.65992302        nan\n",
      " 0.59533585        nan 0.65783712        nan        nan 0.6424454\n",
      " 0.62436505        nan        nan 0.662284   0.60728289        nan\n",
      " 0.63427427 0.61809711        nan        nan        nan 0.63279396\n",
      " 0.65447486 0.62613938 0.65339028        nan 0.54409903 0.65928665\n",
      "        nan 0.62292144 0.66497666 0.60492629 0.57867499 0.65651292\n",
      " 0.66693405 0.65186058 0.66297617 0.63856986        nan        nan\n",
      " 0.64331086        nan        nan 0.63080307 0.63468589 0.67111819\n",
      " 0.64714266        nan        nan 0.66478787 0.67164472 0.64155233\n",
      " 0.63988104 0.65797406        nan 0.6443452  0.62731317 0.60370406\n",
      "        nan 0.6547866  0.64792855        nan 0.64319204 0.63823997\n",
      " 0.65008509 0.62289786 0.62710955        nan 0.61813222        nan\n",
      " 0.55683467 0.64630183 0.58465869 0.66936636 0.61682026 0.66754147\n",
      " 0.66650875 0.58125996 0.65137975        nan 0.6301266  0.64171721\n",
      " 0.56405614        nan 0.6629479  0.65647142 0.58445344 0.5765658\n",
      " 0.6458498  0.65176924 0.63056155        nan 0.6406406  0.65237838\n",
      "        nan 0.627044          nan 0.62570201 0.66620328        nan\n",
      " 0.6587196  0.61587687 0.63168548 0.64573633 0.64758183        nan\n",
      " 0.63245371        nan]\n",
      "  warnings.warn(\n",
      "C:\\ProgramData\\Anaconda3\\lib\\site-packages\\sklearn\\model_selection\\_search.py:926: DataConversionWarning: A column-vector y was passed when a 1d array was expected. Please change the shape of y to (n_samples,), for example using ravel().\n",
      "  self.best_estimator_.fit(X, y, **fit_params)\n"
     ]
    },
    {
     "name": "stdout",
     "output_type": "stream",
     "text": [
      "rf randomcv model r2_score = 0.6716447154070387\n"
     ]
    }
   ],
   "source": [
    "# RandomizeSearchCV\n",
    "\n",
    "rf_params = {'criterion': [\"squared_error\", \"absolute_error\", \"poisson\"],\n",
    "    'max_depth': [80, 90, 100, 110],\n",
    "    'max_features': [\"auto\", \"sqrt\", \"log2\"],\n",
    "    'min_samples_leaf': range(1,11),\n",
    "    'min_samples_split': range(1,15,5),\n",
    "    'n_estimators': [100, 200, 300,500,1000]}\n",
    "\n",
    "rf = RandomForestRegressor()\n",
    "rf_randomcv_model = RandomizedSearchCV(estimator=rf, param_distributions=rf_params, n_iter=200, cv=5, n_jobs=-1, verbose=2).fit(X_train,y_train)\n",
    "rf_randomcv_model.best_params_\n",
    "print('rf randomcv model r2_score = {}'.format(rf_randomcv_model.best_score_))"
   ]
  },
  {
   "cell_type": "code",
   "execution_count": null,
   "id": "e2ce293a",
   "metadata": {},
   "outputs": [],
   "source": []
  },
  {
   "cell_type": "code",
   "execution_count": 27,
   "id": "7cd4b05b",
   "metadata": {},
   "outputs": [
    {
     "data": {
      "text/plain": [
       "['../Models/cars_random_forest_model.pkl']"
      ]
     },
     "execution_count": 27,
     "metadata": {},
     "output_type": "execute_result"
    }
   ],
   "source": [
    "import joblib\n",
    "joblib.dump(rf_randomcv_model, \"../Models/cars_random_forest_model.pkl\")"
   ]
  },
  {
   "cell_type": "markdown",
   "id": "b767f5c0",
   "metadata": {},
   "source": [
    "### LinearRegression with RandomizedCV"
   ]
  },
  {
   "cell_type": "code",
   "execution_count": 28,
   "id": "71a96326",
   "metadata": {},
   "outputs": [
    {
     "name": "stdout",
     "output_type": "stream",
     "text": [
      "lr base model r2_score= 0.425960272966426\n"
     ]
    }
   ],
   "source": [
    "from sklearn.linear_model import LinearRegression\n",
    "\n",
    "lr_base_model = LinearRegression()\n",
    "lr_base_model.fit(X_train,y_train)\n",
    "y_pred  = lr_base_model.predict(X_test)\n",
    "LR_RSCORE= r2_score(y_test,y_pred)\n",
    "print('lr base model r2_score= {}'.format(LR_RSCORE))"
   ]
  },
  {
   "cell_type": "code",
   "execution_count": 34,
   "id": "e31dccf6",
   "metadata": {},
   "outputs": [
    {
     "data": {
      "text/plain": [
       "['../Models/cars_linear_regression_model.pkl']"
      ]
     },
     "execution_count": 34,
     "metadata": {},
     "output_type": "execute_result"
    }
   ],
   "source": [
    "import joblib\n",
    "joblib.dump(regressor, \"../Models/cars_linear_regression_model.pkl\")"
   ]
  },
  {
   "cell_type": "markdown",
   "id": "5f705868",
   "metadata": {},
   "source": [
    "### SVR with RandomizedCV "
   ]
  },
  {
   "cell_type": "code",
   "execution_count": 38,
   "id": "1801c6ac",
   "metadata": {},
   "outputs": [
    {
     "name": "stderr",
     "output_type": "stream",
     "text": [
      "C:\\ProgramData\\Anaconda3\\lib\\site-packages\\sklearn\\utils\\validation.py:993: DataConversionWarning: A column-vector y was passed when a 1d array was expected. Please change the shape of y to (n_samples, ), for example using ravel().\n",
      "  y = column_or_1d(y, warn=True)\n"
     ]
    },
    {
     "name": "stdout",
     "output_type": "stream",
     "text": [
      "svr base model r2_score= -0.11346083907173887\n"
     ]
    }
   ],
   "source": [
    "\"\"\"\n",
    "SVR veri seti üzerinde train edildi. Ancak yetersiz başarım oranından dolayı kullanılmayacak.\n",
    "\"\"\"\n",
    "from sklearn.svm import SVC\n",
    "from sklearn.model_selection import GridSearchCV, RandomizedSearchCV\n",
    "\n",
    "svr_base_model = SVC()\n",
    "svr_base_model.fit(X_train,y_train)\n",
    "y_pred  = svr_base_model.predict(X_test)\n",
    "SVR_RSCORE= r2_score(y_test,y_pred)\n",
    "print('svr base model r2_score= {}'.format(SVR_RSCORE))"
   ]
  }
 ],
 "metadata": {
  "kernelspec": {
   "display_name": "Python 3 (ipykernel)",
   "language": "python",
   "name": "python3"
  },
  "language_info": {
   "codemirror_mode": {
    "name": "ipython",
    "version": 3
   },
   "file_extension": ".py",
   "mimetype": "text/x-python",
   "name": "python",
   "nbconvert_exporter": "python",
   "pygments_lexer": "ipython3",
   "version": "3.9.12"
  }
 },
 "nbformat": 4,
 "nbformat_minor": 5
}
